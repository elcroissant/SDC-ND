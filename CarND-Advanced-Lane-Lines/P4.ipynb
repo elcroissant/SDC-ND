{
 "cells": [
  {
   "cell_type": "markdown",
   "metadata": {},
   "source": [
    "# Self-Driving Car Engineer Nanodegree\n",
    "\n",
    "\n",
    "## Project: **Advanced Lane Finding**\n",
    "\n",
    "---"
   ]
  },
  {
   "cell_type": "markdown",
   "metadata": {},
   "source": [
    "## Step 1: Camera calibration"
   ]
  },
  {
   "cell_type": "code",
   "execution_count": null,
   "metadata": {
    "collapsed": true
   },
   "outputs": [],
   "source": [
    "import numpy as np\n",
    "import cv2\n",
    "import matplotlib.pyplot as plt\n",
    "import matplotlib.image as mpimg\n",
    "import glob\n",
    "%matplotlib inline\n",
    "\n",
    "# prepare object points\n",
    "# number of chessboard inside corners in x\n",
    "nx = 9\n",
    "# number of chessboard inside corners in y\n",
    "ny = 6\n",
    "\n",
    "images = glob.glob('camera_cal/calibration*.jpg')\n",
    "\n",
    "# 3D points in real word space\n",
    "imgpoints = [] \n",
    "# 2D points in image plane\n",
    "objpoints = [] \n",
    "\n",
    "# prepare object points, like (0,0,0), (1,0,0), (2,0,0)...(9,5,0)\n",
    "objp = np.zeros((nx*ny,3), np.float32)\n",
    "objp[:,:2] = np.mgrid[0:nx,0:ny].T.reshape(-1,2) # x,y coordinate\n",
    "\n",
    "for fname in images: \n",
    "    # read in each image\n",
    "    img = cv2.imread(fname)\n",
    "    # convert to grayscale\n",
    "    gray = cv2.cvtColor(img, cv2.COLOR_BGR2GRAY)\n",
    "    # find the chessboard corners\n",
    "    ret, corners = cv2.findChessboardCorners(gray, (nx, ny), None)\n",
    "   \n",
    "    if ret == True:\n",
    "        imgpoints.append(corners)\n",
    "        objpoints.append(objp)\n",
    "\n",
    "        # draw and display the corners\n",
    "        cv2.drawChessboardCorners(img, (nx, ny), corners, ret)\n",
    "        cv2.imshow('img', img)\n",
    "        cv2.waitKey(500)\n",
    "\n",
    "cv2.destroyAllWindows()"
   ]
  },
  {
   "cell_type": "code",
   "execution_count": null,
   "metadata": {
    "scrolled": true
   },
   "outputs": [],
   "source": [
    "import pickle\n",
    "\n",
    "def save_cal_result(mtx, dist):\n",
    "    cal_pickle = {}\n",
    "    cal_pickle[\"mtx\"] = mtx\n",
    "    cal_pickle[\"dist\"] = dist\n",
    "    # save the camera calibration result for later use (we won't worry about rvecs / tvecs)\n",
    "    pickle.dump( cal_pickle, open( \"camera_cal/cal_pickle.p\", \"wb\" ) )\n",
    "\n",
    "def cal_undistort(img, objpoints, imgpoints):\n",
    "    image_size = (img.shape[1],img.shape[0])\n",
    "    # take object points, and image points and \n",
    "    # calculate camera matrix, distortion coefficients, rotation and translation vectors\n",
    "    ret, mtx, dist, rvecs, tvecs = cv2.calibrateCamera(objpoints, imgpoints, image_size, None, None)\n",
    "    # then undistort the image with camera matrix and distortion coefficients\n",
    "    undist = cv2.undistort(img, mtx, dist, None, mtx)\n",
    "    # next save the camera matrix and distortion coefficient for further usage\n",
    "    save_cal_result(mtx,dist)\n",
    "    return undist\n",
    "\n",
    "test_file = 'camera_cal/test_calibration5.jpg'\n",
    "distorted = cv2.imread(test_file)\n",
    "\n",
    "undistorted = cal_undistort(distorted, objpoints, imgpoints)       \n",
    "\n",
    "f, (ax1, ax2) = plt.subplots(1, 2, figsize=(20,10))\n",
    "ax1.imshow(distorted)\n",
    "ax1.set_title('Original Image', fontsize=30)\n",
    "ax2.imshow(undistorted)\n",
    "ax2.set_title('Undistorted Image', fontsize=30)"
   ]
  },
  {
   "cell_type": "code",
   "execution_count": null,
   "metadata": {
    "collapsed": true
   },
   "outputs": [],
   "source": [
    "## Step 2: Distortion correction"
   ]
  },
  {
   "cell_type": "code",
   "execution_count": null,
   "metadata": {
    "collapsed": true
   },
   "outputs": [],
   "source": [
    "import numpy as np\n",
    "import cv2\n",
    "import matplotlib.pyplot as plt\n",
    "import matplotlib.image as mpimg\n",
    "import pickle\n",
    "\n",
    "def undistort_img(img, mtx, dist): \n",
    "    return cv2.undistort(img, mtx, dist, None, mtx)\n",
    "\n",
    "def undistort_road_img(img):\n",
    "    dist_pickle = pickle.load( open( \"camera_cal/cal_pickle.p\", \"rb\" ) )\n",
    "    mtx = dist_pickle[\"mtx\"]\n",
    "    dist = dist_pickle[\"dist\"]\n",
    "    return undistort_img(img, mtx, dist)"
   ]
  },
  {
   "cell_type": "code",
   "execution_count": null,
   "metadata": {
    "collapsed": true
   },
   "outputs": [],
   "source": [
    "## Step 3: Color & gradient threshold"
   ]
  },
  {
   "cell_type": "code",
   "execution_count": null,
   "metadata": {
    "collapsed": true
   },
   "outputs": [],
   "source": [
    "def compute_binary(img, thresh):\n",
    "    binary_output = np.zeros_like(img)\n",
    "    binary_output[(img > thresh[0]) & (img <= thresh[1])] = 1\n",
    "    return binary_output\n",
    "\n",
    "def get_channel(img, channel_no=0, conv=cv2.COLOR_RGB2HLS):\n",
    "    color_space = cv2.cvtColor(img, conv).astype(np.float).astype(np.float)\n",
    "    return color_space[:,:,channel_no]\n",
    "\n",
    "def compute_sobel_binary(img, channel_no=0, sobel_kernel=3, orient='x', conv=cv2.COLOR_RGB2HLS, thresh=(0,255)):\n",
    "    l_channel = get_channel(img, channel_no, conv)\n",
    "    \n",
    "    if orient == 'x':\n",
    "        sobel = cv2.Sobel(l_channel, cv2.CV_64F, 1, 0, ksize=sobel_kernel) # Take the derivative in x\n",
    "    if orient == 'y':\n",
    "        sobel = cv2.Sobel(l_channel, cv2.CV_64F, 0, 1, ksize=sobel_kernel) # Take the derivative in x\n",
    "\n",
    "    # Absolute x derivative to accentuate lines away from horizontal\n",
    "    abs_sobel = np.absolute(sobel) \n",
    "    scaled_sobel = np.uint8(255*abs_sobel/np.max(abs_sobel))\n",
    "    \n",
    "    # Threshold x gradient\n",
    "    return compute_binary(scaled_sobel, thresh)\n",
    "\n",
    "def compute_color_binary(img, channel_no=0, conv=cv2.COLOR_RGB2HLS, thresh=(0,255)):\n",
    "    s_channel = get_channel(img, 2, conv) \n",
    "    # Threshold color channel\n",
    "    return compute_binary(s_channel, thresh)\n",
    "\n",
    "def compute_combined_3_binaries(img1, img2, img3):\n",
    "    combined_binary = np.zeros_like(img1)\n",
    "    combined_binary[(img1 == 1) | (img2 == 1) | (img3 == 1)] = 1\n",
    "    return combined_binary\n",
    "\n",
    "def compute_stack_3_binaries(img1, img2, img3 ):\n",
    "    return np.dstack(( np.zeros_like(img1), img1, img2, img3))\n",
    "\n",
    "def thresh_road_img(img, s_thresh=(170, 255), sx_thresh=(90, 150), v_thresh=(220,255)):\n",
    "    sx_binary = compute_sobel_binary(img, 1, 3, 'x', cv2.COLOR_RGB2HLS, sx_thresh)\n",
    "    s_binary = compute_color_binary(img, 2, cv2.COLOR_RGB2HLS, s_thresh)\n",
    "    v_binary = compute_color_binary(img, 2, cv2.COLOR_RGB2HSV, v_thresh)\n",
    "    color_binary = compute_stack_3_binaries(sx_binary, s_binary, v_binary)\n",
    "    combined_binary = compute_combined_3_binaries(sx_binary, s_binary, v_binary)\n",
    "    return combined_binary\n"
   ]
  },
  {
   "cell_type": "code",
   "execution_count": null,
   "metadata": {
    "collapsed": true
   },
   "outputs": [],
   "source": [
    "## Step 4: Perspective transform "
   ]
  },
  {
   "cell_type": "code",
   "execution_count": null,
   "metadata": {
    "collapsed": true
   },
   "outputs": [],
   "source": [
    "def warp_img(img, src_coords, dst_coords, matrix_transform='True'):\n",
    "    img_size = (img.shape[1], img.shape[0])\n",
    "    if matrix_transform == 'True':\n",
    "        # if True compute matrix transform\n",
    "        M = cv2.getPerspectiveTransform(src_coords, dst_coords)\n",
    "    else:\n",
    "        # if False compute inverse matrix transform\n",
    "        M = cv2.getPerspectiveTransform(dst_coords, src_coords)\n",
    "    \n",
    "    # create warped image with linear interpolation\n",
    "    warped = cv2.warpPerspective(img, M, img_size, flags=cv2.INTER_LINEAR)\n",
    "    return warped, M\n",
    "\n",
    "def warp_road_img(img, to_bird_eye_view='True'):\n",
    "    # define source and destination coordinates\n",
    "    src = np.float32([[214,720], [580,460], [704,460], [1086,720]])\n",
    "    offset = [50,0]\n",
    "    \n",
    "    _top_left=np.array([src[0,0],0])\n",
    "    _top_right=np.array([src[3,0],0])\n",
    "    \n",
    "    dst = np.float32([src[0]+offset, _top_left+offset, _top_right-offset, src[3]-offset])\n",
    "    return warp_img(img, src, dst, to_bird_eye_view)"
   ]
  },
  {
   "cell_type": "code",
   "execution_count": null,
   "metadata": {
    "collapsed": true
   },
   "outputs": [],
   "source": [
    "## Step 5a: Identifing lane-line pixels"
   ]
  },
  {
   "cell_type": "code",
   "execution_count": null,
   "metadata": {
    "collapsed": true
   },
   "outputs": [],
   "source": [
    "def search_sliding_window(binary_warped):\n",
    "    # Assuming you have created a warped binary image called \"binary_warped\"\n",
    "    # Take a histogram of the bottom half of the image\n",
    "    histogram = np.sum(binary_warped[binary_warped.shape[0]//2:,:], axis=0)\n",
    "    # Create an output image to draw on and  visualize the result\n",
    "    out_img = np.dstack((binary_warped, binary_warped, binary_warped))*255\n",
    "    # Find the peak of the left and right halves of the histogram\n",
    "    # These will be the starting point for the left and right lines\n",
    "    midpoint = np.int(histogram.shape[0]/2)\n",
    "    leftx_base = np.argmax(histogram[:midpoint])\n",
    "    rightx_base = np.argmax(histogram[midpoint:]) + midpoint\n",
    "\n",
    "    # Choose the number of sliding windows\n",
    "    nwindows = 9\n",
    "    # Set height of windows\n",
    "    window_height = np.int(binary_warped.shape[0]/nwindows)\n",
    "    # Identify the x and y positions of all nonzero pixels in the image\n",
    "    nonzero = binary_warped.nonzero()\n",
    "    nonzeroy = np.array(nonzero[0])\n",
    "    nonzerox = np.array(nonzero[1])\n",
    "    # Current positions to be updated for each window\n",
    "    leftx_current = leftx_base\n",
    "    rightx_current = rightx_base\n",
    "    # Set the width of the windows +/- margin\n",
    "    margin = 100\n",
    "    # Set minimum number of pixels found to recenter window\n",
    "    minpix = 50\n",
    "    # Create empty lists to receive left and right lane pixel indices\n",
    "    left_lane_inds = []\n",
    "    right_lane_inds = []\n",
    "\n",
    "    # Step through the windows one by one\n",
    "    for window in range(nwindows):\n",
    "        # Identify window boundaries in x and y (and right and left)\n",
    "        win_y_low = binary_warped.shape[0] - (window+1)*window_height\n",
    "        win_y_high = binary_warped.shape[0] - window*window_height\n",
    "        win_xleft_low = leftx_current - margin\n",
    "        win_xleft_high = leftx_current + margin\n",
    "        win_xright_low = rightx_current - margin\n",
    "        win_xright_high = rightx_current + margin\n",
    "        # Draw the windows on the visualization image\n",
    "        cv2.rectangle(out_img,(win_xleft_low,win_y_low),(win_xleft_high,win_y_high),(0,255,0), 2) \n",
    "        cv2.rectangle(out_img,(win_xright_low,win_y_low),(win_xright_high,win_y_high),(0,255,0), 2) \n",
    "        # Identify the nonzero pixels in x and y within the window\n",
    "        good_left_inds = ((nonzeroy >= win_y_low) & (nonzeroy < win_y_high) & (nonzerox >= win_xleft_low) & (nonzerox < win_xleft_high)).nonzero()[0]\n",
    "        good_right_inds = ((nonzeroy >= win_y_low) & (nonzeroy < win_y_high) & (nonzerox >= win_xright_low) & (nonzerox < win_xright_high)).nonzero()[0]\n",
    "        # Append these indices to the lists\n",
    "        left_lane_inds.append(good_left_inds)\n",
    "        right_lane_inds.append(good_right_inds)\n",
    "        # If you found > minpix pixels, recenter next window on their mean position\n",
    "        if len(good_left_inds) > minpix:\n",
    "            leftx_current = np.int(np.mean(nonzerox[good_left_inds]))\n",
    "        if len(good_right_inds) > minpix:        \n",
    "            rightx_current = np.int(np.mean(nonzerox[good_right_inds]))\n",
    "\n",
    "    # Concatenate the arrays of indices\n",
    "    left_lane_inds = np.concatenate(left_lane_inds)\n",
    "    right_lane_inds = np.concatenate(right_lane_inds)\n",
    "\n",
    "    # Extract left and right line pixel positions\n",
    "    leftx = nonzerox[left_lane_inds]\n",
    "    lefty = nonzeroy[left_lane_inds] \n",
    "    rightx = nonzerox[right_lane_inds]\n",
    "    righty = nonzeroy[right_lane_inds] \n",
    "\n",
    "    # Fit a second order polynomial to each\n",
    "    left_fit = np.polyfit(lefty, leftx, 2)\n",
    "    right_fit = np.polyfit(righty, rightx, 2)\n",
    "\n",
    "    return out_img, left_lane_inds, right_lane_inds, left_fit, right_fit\n"
   ]
  },
  {
   "cell_type": "code",
   "execution_count": null,
   "metadata": {
    "collapsed": true
   },
   "outputs": [],
   "source": [
    "def search_margin(binary_warped, left_lane_inds, right_lane_inds):\n",
    "    # Assume you now have a new warped binary image \n",
    "    # from the next frame of video (also called \"binary_warped\")\n",
    "    # It's now much easier to find line pixels!\n",
    "    nonzero = binary_warped.nonzero()\n",
    "    nonzeroy = np.array(nonzero[0])\n",
    "    nonzerox = np.array(nonzero[1])\n",
    "    \n",
    "    ##########\n",
    "    # Extract left and right line pixel positions\n",
    "    leftx = nonzerox[left_lane_inds]\n",
    "    lefty = nonzeroy[left_lane_inds] \n",
    "    rightx = nonzerox[right_lane_inds]\n",
    "    righty = nonzeroy[right_lane_inds] \n",
    "\n",
    "    # Fit a second order polynomial to each\n",
    "    left_fit = np.polyfit(lefty, leftx, 2)\n",
    "    right_fit = np.polyfit(righty, rightx, 2)\n",
    "    #######\n",
    "    \n",
    "    margin = 100\n",
    "    left_lane_inds = ((nonzerox > (left_fit[0]*(nonzeroy**2) + left_fit[1]*nonzeroy + left_fit[2] - margin)) & (nonzerox < (left_fit[0]*(nonzeroy**2) + left_fit[1]*nonzeroy + left_fit[2] + margin))) \n",
    "    right_lane_inds = ((nonzerox > (right_fit[0]*(nonzeroy**2) + right_fit[1]*nonzeroy + right_fit[2] - margin)) & (nonzerox < (right_fit[0]*(nonzeroy**2) + right_fit[1]*nonzeroy + right_fit[2] + margin)))  \n",
    "\n",
    "    # Again, extract left and right line pixel positions\n",
    "    leftx = nonzerox[left_lane_inds]\n",
    "    lefty = nonzeroy[left_lane_inds] \n",
    "    rightx = nonzerox[right_lane_inds]\n",
    "    righty = nonzeroy[right_lane_inds]\n",
    "    # Fit a second order polynomial to each\n",
    "    left_fit = np.polyfit(lefty, leftx, 2)\n",
    "    right_fit = np.polyfit(righty, rightx, 2)\n",
    "    # Generate x and y values for plotting\n",
    "    ploty = np.linspace(0, binary_warped.shape[0]-1, binary_warped.shape[0] )\n",
    "    left_fitx = left_fit[0]*ploty**2 + left_fit[1]*ploty + left_fit[2]\n",
    "    right_fitx = right_fit[0]*ploty**2 + right_fit[1]*ploty + right_fit[2]\n",
    "    \n",
    "    return left_fitx, right_fitx"
   ]
  },
  {
   "cell_type": "code",
   "execution_count": null,
   "metadata": {
    "collapsed": true
   },
   "outputs": [],
   "source": [
    "## Plotting back the identified lines on images"
   ]
  },
  {
   "cell_type": "code",
   "execution_count": null,
   "metadata": {
    "collapsed": true
   },
   "outputs": [],
   "source": [
    "def mark_lanes_add_desc(img, binary_warped):\n",
    "    #color_warped = np.zeros_like(img)\n",
    "    color_undist = undistort_road_img(img)\n",
    "    color_warped_output, M = warp_road_img(color_undist, False)\n",
    "\n",
    "    outimg, left_ind, right_ind, left_fit, right_fit = search_sliding_window(binary_warped)\n",
    "    left_fitx, right_fitx = search_margin(binary_warped, left_ind, right_ind)\n",
    "    #draw_sliding_window(img, outimg, left_ind, right_ind)\n",
    "    #draw_sliding_window(img, left, right)\n",
    "\n",
    "    # Create an image to draw on and an image to show the selection window\n",
    "    out_img = np.dstack((binary_warped, binary_warped, binary_warped))*255\n",
    "    window_img = np.zeros_like(out_img)\n",
    "    # Color in left and right line pixels\n",
    "\n",
    "    ploty = np.linspace(0, binary_warped.shape[0]-1, binary_warped.shape[0] )\n",
    "    # Generate a polygon to illustrate the search window area\n",
    "    # And recast the x and y points into usable format for cv2.fillPoly()\n",
    "    left_line = np.array([np.transpose(np.vstack([left_fitx, ploty]))])\n",
    "    right_line = np.array([np.flipud(np.transpose(np.vstack([right_fitx, ploty])))])\n",
    "    line_pts = np.hstack((left_line, right_line))\n",
    "\n",
    "    # Draw the lane onto the warped blank image\n",
    "    cv2.fillPoly(window_img, np.int_([line_pts]), (0,255, 0))\n",
    "    newwarp = cv2.warpPerspective(window_img, M, (img.shape[1], img.shape[0])) \n",
    "    result = cv2.addWeighted(color_undist, 1, newwarp, 0.3, 0)\n",
    "\n",
    "    # Define conversions in x and y from pixels space to meters\n",
    "    # meters per pixel in y dimension\n",
    "    ym_per_pix = 30/720 \n",
    "    # meters per pixel in x dimension\n",
    "    xm_per_pix = 3.7/700 \n",
    "    # y_evel points at the bottom of the picture \n",
    "    y_eval = np.max(ploty)\n",
    "    # midx is exact middle of the picture in x dimention\n",
    "    midx = binary_warped.shape[1]/2\n",
    "    \n",
    "    # calculate pixel based positions of both lane lines  \n",
    "    left_pix_base = left_fit[0]*(y_eval**2) + left_fit[1]*y_eval + left_fit[2]\n",
    "    right_pix_base = right_fit[0]*(y_eval**2) + right_fit[1]*y_eval + right_fit[2]\n",
    "    # distance from center is the mean avarage of both pixel based positions \n",
    "    dist_from_center = np.round(((left_pix_base + right_pix_base)/2 - midx) * xm_per_pix, 2)\n",
    "    str1 = str('Distance From Center: '+str(np.absolute(dist_from_center))+ 'm')\n",
    "    cv2.putText(result, str1, (430,660), cv2.FONT_HERSHEY_SIMPLEX, 1,(255,0,0), 2, cv2.LINE_AA)\n",
    "    \n",
    "    # calculate first and second derivatives for left curvature and then use the appropriate formula\n",
    "    y1_left = (2 * left_fit[0] * y_eval + left_fit[1])* xm_per_pix/ym_per_pix\n",
    "    y2_left = 2 * left_fit[0] * xm_per_pix / (ym_per_pix * ym_per_pix)\n",
    "    left_curvature = ((1 + y1_left*y1_left)**(1.5))/np.absolute(y2_left)\n",
    "\n",
    "    # calculate first and second derivatives for right curvature and then use the appropriate formula\n",
    "    y1_right = (2*right_fit[0]*y_eval + right_fit[1])*xm_per_pix/ym_per_pix\n",
    "    y2_right = 2*right_fit[0]*xm_per_pix/(ym_per_pix*ym_per_pix)\n",
    "    right_curvature = ((1 + y1_left*y1_left)**(1.5))/np.absolute(y2_left)\n",
    "\n",
    "    curvature = np.round((left_curvature + right_curvature)/2)\n",
    "    str2 = str('Radius of curvature: '+ str(curvature) + 'm')\n",
    "    cv2.putText(result, str2, (430,690), cv2.FONT_HERSHEY_SIMPLEX, 1,(255,0,0), 2, cv2.LINE_AA)  \n",
    "\n",
    "    return result"
   ]
  },
  {
   "cell_type": "code",
   "execution_count": null,
   "metadata": {
    "collapsed": true
   },
   "outputs": [],
   "source": [
    "import numpy as np\n",
    "import cv2\n",
    "import matplotlib.pyplot as plt\n",
    "import matplotlib.image as mpimg\n",
    "import pickle\n",
    "\n",
    "\n",
    "def draw_road_window(ima):\n",
    "    pts = np.array([[214,720], [580,460], [704,460], [1086,720]], np.int32)\n",
    "    pts = pts.reshape((-1,1,2))\n",
    "    return cv2.polylines(ima,[pts],True,(0,255,255))\n",
    "\n",
    "\n",
    "def draw_sliding_window(binary_warped, out_img, left_lane_inds, right_lane_inds):\n",
    "    # Identify the x and y positions of all nonzero pixels in the image\n",
    "    nonzero = binary_warped.nonzero()\n",
    "    nonzeroy = np.array(nonzero[0])\n",
    "    nonzerox = np.array(nonzero[1])\n",
    "    \n",
    "    # Extract left and right line pixel positions\n",
    "    leftx = nonzerox[left_lane_inds]\n",
    "    lefty = nonzeroy[left_lane_inds] \n",
    "    rightx = nonzerox[right_lane_inds]\n",
    "    righty = nonzeroy[right_lane_inds] \n",
    "\n",
    "    # Fit a second order polynomial to each\n",
    "    left_fit = np.polyfit(lefty, leftx, 2)\n",
    "    right_fit = np.polyfit(righty, rightx, 2)\n",
    "    \n",
    "    # Generate x and y values for plotting\n",
    "    ploty = np.linspace(0, binary_warped.shape[0]-1, binary_warped.shape[0] )\n",
    "    left_fitx = left_fit[0]*ploty**2 + left_fit[1]*ploty + left_fit[2]\n",
    "    right_fitx = right_fit[0]*ploty**2 + right_fit[1]*ploty + right_fit[2]\n",
    "    print (left_lane_inds, nonzeroy[left_lane_inds], nonzerox[left_lane_inds])\n",
    "    out_img[nonzeroy[left_lane_inds], nonzerox[left_lane_inds]] = [255, 0, 0]\n",
    "    out_img[nonzeroy[right_lane_inds], nonzerox[right_lane_inds]] = [0, 0, 255]\n",
    "    plt.imshow(out_img)\n",
    "    \n",
    "    plt.plot(left_fitx, ploty, color='yellow')\n",
    "    plt.plot(right_fitx, ploty, color='yellow')\n",
    "    plt.xlim(0, 1280)\n",
    "    plt.ylim(720, 0)\n",
    "    mpimg.imsave(\"output_images/pipeline_result.jpg\", out_img, cmap='gray')"
   ]
  },
  {
   "cell_type": "code",
   "execution_count": null,
   "metadata": {
    "collapsed": true
   },
   "outputs": [],
   "source": [
    "## Output drawing function"
   ]
  },
  {
   "cell_type": "code",
   "execution_count": null,
   "metadata": {
    "collapsed": true
   },
   "outputs": [],
   "source": [
    "def draw_figure(orginal_imgs, output_imgs, warp_imgs, size=(24, 12)):\n",
    "    fig, axs = plt.subplots(nrows = len(orginal_imgs), ncols = 4, sharex=False, figsize=size)\n",
    "    for plt_row_index, warp_img in enumerate(warp_imgs):\n",
    "        axs[plt_row_index, 0].imshow(orginal_imgs[plt_row_index])\n",
    "        axs[plt_row_index, 0].set_title('Original Image', fontsize=15)\n",
    "        axs[plt_row_index, 1].imshow(warp_img, cmap='gray')\n",
    "        axs[plt_row_index, 1].set_title('Warped Image', fontsize=15)\n",
    "        # compute histogram along all the columns in the lower half of the image like this\n",
    "        axs[plt_row_index, 2].plot(np.sum(warp_img[warp_img.shape[0]//2:,:], axis=0))\n",
    "        axs[plt_row_index, 2].set_title('Histogram', fontsize=15)\n",
    "        axs[plt_row_index, 3].imshow(output_imgs[plt_row_index])\n",
    "        axs[plt_row_index, 3].set_title('Output Image', fontsize=15)\n",
    "    plt.tight_layout()\n",
    "    plt.gray()\n",
    "    fig.savefig('./output_images/output.jpg')"
   ]
  },
  {
   "cell_type": "code",
   "execution_count": null,
   "metadata": {
    "collapsed": true
   },
   "outputs": [],
   "source": [
    "# Image processing pipeline"
   ]
  },
  {
   "cell_type": "code",
   "execution_count": null,
   "metadata": {},
   "outputs": [],
   "source": [
    "import glob\n",
    "%matplotlib inline\n",
    "\n",
    "# Edit this function to create your own pipeline.\n",
    "def pipeline(img, s_thresh=(170, 253), sx_thresh=(20, 255), v_thresh=(220,255)):\n",
    "    # Step 1: Camera calibration\n",
    "    # we can skip Step 1 as long as we have camera matrix and distiortion coefficients stored in the file\n",
    "    # Step 2: Distortion correction\n",
    "    undist_output = undistort_road_img(img)\n",
    "    # Step 3: Color & gradient threshold\n",
    "    threshold_output = thresh_road_img(undist_output, s_thresh, sx_thresh, v_thresh)   \n",
    "    # Step 4: Perspective transform \n",
    "    warped_output, M = warp_road_img(threshold_output)\n",
    "    #Step 5: Plotting back identified lane on picture \n",
    "    plotted_output = mark_lanes_add_desc(img, warped_output)\n",
    "    \n",
    "    return plotted_output, warped_output\n",
    "\n",
    "test_file_names = glob.glob('test_images/*.jpg')\n",
    "\n",
    "test_img_list = []\n",
    "warp_img_list = []\n",
    "out_img_list = []\n",
    "\n",
    "for test_file_name in test_file_names:\n",
    "    image = mpimg.imread(test_file_name)\n",
    "    #image = draw_road_window(image)\n",
    "    test_img_list.append(image)\n",
    "    out_image, warp_image = pipeline(image)\n",
    "    out_img_list.append(out_image)\n",
    "    warp_img_list.append(warp_image)\n",
    "\n",
    "# for visualization\n",
    "draw_figure(test_img_list, out_img_list, warp_img_list, size=(24, 18))"
   ]
  },
  {
   "cell_type": "code",
   "execution_count": null,
   "metadata": {},
   "outputs": [],
   "source": [
    "index = 6\n",
    "img = test_img_list[index]\n",
    "result, warp = pipeline(img)\n",
    "plt.imshow(result)"
   ]
  },
  {
   "cell_type": "markdown",
   "metadata": {},
   "source": [
    "## Test on Videos\n",
    "\n",
    "You know what's cooler than drawing lanes over images? Drawing lanes over video!\n",
    "\n",
    "We can test our solution on two provided videos:\n",
    "\n",
    "`solidWhiteRight.mp4`\n",
    "\n",
    "`solidYellowLeft.mp4`\n",
    "\n",
    "**Note: if you get an `import error` when you run the next cell, try changing your kernel (select the Kernel menu above --> Change Kernel).  Still have problems?  Try relaunching Jupyter Notebook from the terminal prompt. Also, check out [this forum post](https://carnd-forums.udacity.com/questions/22677062/answers/22677109) for more troubleshooting tips.**\n",
    "\n",
    "**If you get an error that looks like this:**\n",
    "```\n",
    "NeedDownloadError: Need ffmpeg exe. \n",
    "You can download it by calling: \n",
    "imageio.plugins.ffmpeg.download()\n",
    "```\n",
    "**Follow the instructions in the error message and check out [this forum post](https://carnd-forums.udacity.com/display/CAR/questions/26218840/import-videofileclip-error) for more troubleshooting tips across operating systems.**"
   ]
  },
  {
   "cell_type": "code",
   "execution_count": null,
   "metadata": {
    "collapsed": true
   },
   "outputs": [],
   "source": [
    "# Import everything needed to edit/save/watch video clips\n",
    "from moviepy.editor import VideoFileClip\n",
    "from IPython.display import HTML"
   ]
  },
  {
   "cell_type": "code",
   "execution_count": null,
   "metadata": {
    "collapsed": true
   },
   "outputs": [],
   "source": [
    "def process_image(image):\n",
    "    # NOTE: The output you return should be a color image (3 channel) for processing video below\n",
    "    # TODO: put your pipeline here,\n",
    "    # you should return the final output (image where lines are drawn on lanes)\n",
    "    out_image, warp_image = pipeline(image)\n",
    "    return out_image"
   ]
  },
  {
   "cell_type": "markdown",
   "metadata": {},
   "source": [
    "Let's try the one with the solid white lane on the right first ..."
   ]
  },
  {
   "cell_type": "code",
   "execution_count": null,
   "metadata": {
    "scrolled": true
   },
   "outputs": [],
   "source": [
    "white_output = './project_video_out1.mp4'\n",
    "## To speed up the testing process you may want to try your pipeline on a shorter subclip of the video\n",
    "## To do so add .subclip(start_second,end_second) to the end of the line below\n",
    "## Where start_second and end_second are integer values representing the start and end of the subclip\n",
    "## You may also uncomment the following line for a subclip of the first 5 seconds\n",
    "##clip1 = VideoFileClip(\"test_videos/solidWhiteRight.mp4\").subclip(0,5)\n",
    "clip1 = VideoFileClip(\"./project_video.mp4\")\n",
    "white_clip = clip1.fl_image(process_image) #NOTE: this function expects color images!!\n",
    "%time white_clip.write_videofile(white_output, audio=False)"
   ]
  },
  {
   "cell_type": "markdown",
   "metadata": {},
   "source": [
    "Play the video inline, or if you prefer find the video in your filesystem (should be in the same directory) and play it in your video player of choice."
   ]
  },
  {
   "cell_type": "code",
   "execution_count": null,
   "metadata": {
    "scrolled": true
   },
   "outputs": [],
   "source": [
    "HTML(\"\"\"\n",
    "<video width=\"960\" height=\"540\" controls>\n",
    "  <source src=\"{0}\">\n",
    "</video>\n",
    "\"\"\".format(white_output))"
   ]
  }
 ],
 "metadata": {
  "anaconda-cloud": {},
  "kernelspec": {
   "display_name": "Python 3",
   "language": "python",
   "name": "python3"
  },
  "language_info": {
   "codemirror_mode": {
    "name": "ipython",
    "version": 3
   },
   "file_extension": ".py",
   "mimetype": "text/x-python",
   "name": "python",
   "nbconvert_exporter": "python",
   "pygments_lexer": "ipython3",
   "version": "3.5.2"
  },
  "widgets": {
   "state": {},
   "version": "1.1.2"
  }
 },
 "nbformat": 4,
 "nbformat_minor": 1
}
